{
 "cells": [
  {
   "attachments": {},
   "cell_type": "markdown",
   "metadata": {},
   "source": [
    "Using methodology from https://automaticaddison.com/the-ultimate-guide-to-real-time-lane-detection-using-opencv/ adapting to our usecase"
   ]
  },
  {
   "cell_type": "code",
   "execution_count": 77,
   "metadata": {},
   "outputs": [],
   "source": [
    "import cv2 as cv \n",
    "import pandas as pd\n",
    "import numpy as np"
   ]
  },
  {
   "cell_type": "code",
   "execution_count": 61,
   "metadata": {},
   "outputs": [],
   "source": [
    "img = cv.imread(r'testMaps/forest_from_above.jpg')"
   ]
  },
  {
   "cell_type": "code",
   "execution_count": 62,
   "metadata": {},
   "outputs": [],
   "source": [
    "# cv.imshow('Original', img)\n",
    "# cv.waitKey(0)"
   ]
  },
  {
   "cell_type": "code",
   "execution_count": 63,
   "metadata": {},
   "outputs": [],
   "source": [
    "imgHLS = cv.cvtColor(img, cv.COLOR_BGR2HLS)  # Convert image from BGR (full color) to HLS (hue, saturation, lightness)\n",
    "# cv.imshow('hls', imgHLS)\n",
    "# cv.imwrite(r\"testMaps/tmp/HLS.jpg\", imgHLS)"
   ]
  },
  {
   "attachments": {},
   "cell_type": "markdown",
   "metadata": {},
   "source": [
    "sobelBinary thresholds the Lightness channel to try to find sharp discontinuities in pixel intensities, GuassianBlur is used to reduce noise."
   ]
  },
  {
   "cell_type": "code",
   "execution_count": 107,
   "metadata": {},
   "outputs": [
    {
     "data": {
      "text/plain": [
       "True"
      ]
     },
     "execution_count": 107,
     "metadata": {},
     "output_type": "execute_result"
    }
   ],
   "source": [
    "## Try to find road edges\n",
    "\n",
    "sobelBinary = cv.threshold(imgHLS[:, :, 1], 155, 255, cv.THRESH_BINARY)[1]  # binary threshold on lightness channel\n",
    "cv.imwrite(r\"testMaps/tmp/sobelBinary.jpg\", sobelBinary)\n",
    "sobelBinary = cv.GaussianBlur(sobelBinary, (3, 3), 0)  # to reduce noise\n",
    "cv.imwrite(r\"testMaps/tmp/sobelBinaryGuassian.jpg\", sobelBinary)\n",
    "\n",
    "sobelx = np.absolute(cv.Sobel(sobelBinary, ddepth=cv.CV_64F, dx=1, dy=0, ksize=3))\n",
    "sobely = np.absolute(cv.Sobel(sobelBinary, ddepth=cv.CV_64F, dx=0, dy=1, ksize=3))\n",
    "mags = np.sqrt(sobelx ** 2 + sobely ** 2)\n",
    "binary = np.ones_like(mags)  # array of 1's with same shape/type as mags\n",
    "binary[(mags >= 155) & (mags <= 255)] = 255\n",
    " \n",
    "sobelBinary = binary\n",
    "cv.imwrite(r\"testMaps/tmp/sobelBinaryMags.jpg\", sobelBinary)"
   ]
  },
  {
   "cell_type": "code",
   "execution_count": 135,
   "metadata": {},
   "outputs": [
    {
     "data": {
      "text/plain": [
       "True"
      ]
     },
     "execution_count": 135,
     "metadata": {},
     "output_type": "execute_result"
    }
   ],
   "source": [
    "## Isolate lanes \n",
    "\n",
    "sBinary = cv.threshold(imgHLS[:, :, 2], 155, 255, cv.THRESH_BINARY)[1]  # binary threshold on saturation channel\n",
    "cv.imwrite(r\"testMaps/tmp/sBinary.jpg\", sBinary)\n",
    "\n",
    "#green mask below is useful for forests, should make more generalizable for future work though\n",
    "greenThresh = cv.threshold(img[:, :, 1], 145, 255, cv.THRESH_BINARY_INV)[1]  # if original img has green pixel value > 155, make it black, else make it white\n",
    "cv.imwrite(r\"testMaps/tmp/greenThresh.jpg\", greenThresh)\n",
    "\n",
    "bitBinary = cv.bitwise_and(sBinary, greenThresh)\n",
    "cv.imwrite(r\"testMaps/tmp/bitBinary.jpg\", bitBinary)\n",
    "\n",
    "# showRoads = cv.bitwise_or(bitBinary, sobelBinary.astype(np.uint8))  #using bitBinary\n",
    "# cv.imwrite(r\"testMaps/tmp/showRoads.jpg\", showRoads)\n",
    "\n",
    "showRoads = cv.bitwise_or(greenThresh, sobelBinary.astype(np.uint8))  #using greenThresh\n",
    "cv.imwrite(r\"testMaps/tmp/showRoads.jpg\", showRoads)"
   ]
  },
  {
   "attachments": {},
   "cell_type": "markdown",
   "metadata": {},
   "source": [
    "For us here, greenThresh is superior as it just gets rid of all the trees.  Not generalizable though."
   ]
  }
 ],
 "metadata": {
  "kernelspec": {
   "display_name": "py106",
   "language": "python",
   "name": "python3"
  },
  "language_info": {
   "codemirror_mode": {
    "name": "ipython",
    "version": 3
   },
   "file_extension": ".py",
   "mimetype": "text/x-python",
   "name": "python",
   "nbconvert_exporter": "python",
   "pygments_lexer": "ipython3",
   "version": "3.10.6"
  },
  "orig_nbformat": 4
 },
 "nbformat": 4,
 "nbformat_minor": 2
}
